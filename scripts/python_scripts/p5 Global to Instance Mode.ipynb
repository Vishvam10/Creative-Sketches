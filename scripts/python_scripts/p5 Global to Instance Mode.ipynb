{
 "cells": [
  {
   "cell_type": "code",
   "execution_count": 27,
   "id": "3a2db3cd",
   "metadata": {},
   "outputs": [
    {
     "name": "stdout",
     "output_type": "stream",
     "text": [
      "let t = 0; // time variable\n",
      "\n",
      "function setup() {\n",
      "    p.createCanvas(600, 600);\n",
      "    p.noStroke();\n",
      "    p.fill(40, 200, 40);\n",
      "}\n",
      "\n",
      "function draw() {\n",
      "    p.background(10, 10); // translucent p.background (creates trails)\n",
      "\n",
      "    // make a x and y grid of ellipses\n",
      "    for (let x = 0; x <= p.width; x = x + 30) {\n",
      "        for (let y = 0; y <= p.height; y = y + 30) {\n",
      "            // starting p.point of each p.circle depends on mouse position\n",
      "            const xAngle = p.map(p.mouseX, 0, p.width, -4 * PI, 4 * PI, true);\n",
      "            const yAngle = p.map(p.mouseY, 0, p.height, -4 * PI, 4 * PI, true);\n",
      "            // and also varies based on the particle's location\n",
      "            const angle = xAngle * (x / p.width) + yAngle * (y / p.height);\n",
      "\n",
      "            // each particle moves in a p.circle\n",
      "            const myX = x + 20 * p.cos(2 * PI * t + angle);\n",
      "            const myY = y + 20 * p.sin(2 * PI * t + angle);\n",
      "\n",
      "            p.ellipse(myX, myY, 10); // draw particle\n",
      "        }\n",
      "    }\n",
      "\n",
      "    t = t + 0.01; // update time\n",
      "}\n"
     ]
    }
   ],
   "source": [
    "import pandas as pd\n",
    "import re\n",
    "\n",
    "\n",
    "def get_apis() :\n",
    "    file_path = \"./p5_reference.txt\"\n",
    "    df = pd.read_csv(file_path, sep=\"\\n\", header=None)\n",
    "    \n",
    "    data = {}\n",
    "    current_header = \"\"\n",
    "    \n",
    "    for item in df.values.tolist() :\n",
    "        ele = item[0].strip()\n",
    "        if(ele[0].isupper()) :\n",
    "            if(ele != \"Foundation\") :\n",
    "                data[ele] = []\n",
    "                current_header = ele\n",
    "        else :\n",
    "            ele = ele.replace(\"()\", \"\")\n",
    "            data[current_header].append(ele)\n",
    "            \n",
    "    return data\n",
    "\n",
    "\n",
    "script_path = \"./sample.js\"\n",
    "content = \"\"\n",
    "\n",
    "functions = get_apis()\n",
    "\n",
    "with open(script_path, 'r') as f:\n",
    "    content = f.readlines()\n",
    "\n",
    "content = ''.join(content)\n",
    "new_content = content\n",
    "disallowed_symbols = [\">\", \">=\", \"<\", \"<=\", \"=\", \"const\", \"let\", \"var\", \"function\", \"while\", \"for\", \"setup\", \"draw\"]\n",
    "\n",
    "\n",
    "for key,value in functions.items() :\n",
    "    for v in value :\n",
    "        if(v in new_content and v not in disallowed_symbols) :\n",
    "            search_string = rf\"\\b(?=\\w){v}\\b(?!\\w)\"\n",
    "            replace_string = \"p.{}\".format(v)\n",
    "#             print(replace_string)\n",
    "            new_content = re.sub(search_string, replace_string, new_content)\n",
    "\n",
    "print(new_content)\n"
   ]
  }
 ],
 "metadata": {
  "interpreter": {
   "hash": "0e7315952c1f19a469679cabeee7d46fab95aa66dcaf374a9a47f319f34bdce8"
  },
  "kernelspec": {
   "display_name": "Python 3 (ipykernel)",
   "language": "python",
   "name": "python3"
  },
  "language_info": {
   "codemirror_mode": {
    "name": "ipython",
    "version": 3
   },
   "file_extension": ".py",
   "mimetype": "text/x-python",
   "name": "python",
   "nbconvert_exporter": "python",
   "pygments_lexer": "ipython3",
   "version": "3.9.7"
  }
 },
 "nbformat": 4,
 "nbformat_minor": 5
}
