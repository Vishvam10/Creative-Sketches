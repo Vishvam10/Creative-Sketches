{
 "cells": [
  {
   "cell_type": "markdown",
   "id": "33edc612",
   "metadata": {},
   "source": [
    "### A Python Script For Converting Global p5 Code To Instance Mode"
   ]
  },
  {
   "cell_type": "code",
   "execution_count": 177,
   "id": "3a2db3cd",
   "metadata": {},
   "outputs": [
    {
     "name": "stdout",
     "output_type": "stream",
     "text": [
      "REACHED\n"
     ]
    }
   ],
   "source": [
    "import pandas as pd\n",
    "import re\n",
    "import sys\n",
    "\n",
    "script_path = \"./sample.js\"\n",
    "with open(script_path, 'r') as f:\n",
    "    content = f.readlines()\n",
    "\n",
    "content = ''.join(content)\n",
    "\n",
    "disallowed_symbols = [ \"console\", \"log\", \"setup\", \"draw\", \"preload\"]\n",
    "\n",
    "def get_functions() :\n",
    "    file_path = \"./p5_reference.txt\"\n",
    "    df = pd.read_csv(file_path, sep=\"\\n\", header=None)\n",
    "    data = {}\n",
    "    current_header = \"\"\n",
    "    \n",
    "    for item in df.values.tolist() :\n",
    "        ele = item[0].strip()\n",
    "        if(ele[0].isupper() and ele != \"JSON\") :\n",
    "            data[ele] = []\n",
    "            current_header = ele\n",
    "        else :\n",
    "            ele = ele.replace(\"()\", \"\")\n",
    "            data[current_header].append(ele)\n",
    "    \n",
    "    del data[\"Foundation\"]  \n",
    "    \n",
    "    return data\n",
    "\n",
    "def get_events() :\n",
    "    events = ['draw()', 'setup()', 'preload()','mouseMoved()', 'mouseDragged()', 'mousePressed()', 'mouseReleased()', 'mouseClicked()', 'doubleClicked()', 'mouseWheel()', 'keyPressed()', 'keyReleased()', 'keyTyped()',  'touchStarted()', 'touchMoved()', 'touchEnded()']\n",
    "    \n",
    "    return events\n",
    "\n",
    " \n",
    "def events_replace(content) :\n",
    "    new_content = content\n",
    "    events = get_events()\n",
    "    for e in events :\n",
    "        search_string = rf\"\\b(?=\\w)function {e}\\b(?!\\w)\"\n",
    "        replace_string = \"p.{} = function\".format(e)\n",
    "        new_content = re.sub(search_string, replace_string, new_content)\n",
    "    \n",
    "    return new_content\n",
    "\n",
    "def keyword_replace(content) :\n",
    "    new_content = content\n",
    "    functions = get_functions()\n",
    "    for key,value in functions.items() :\n",
    "        for v in value :\n",
    "            if(v in new_content and v not in disallowed_symbols) :\n",
    "                search_string = rf\"\\b(?=\\w){v}\\b(?!\\w)\"\n",
    "                replace_string = \"p.{}\".format(v)\n",
    "                new_content = re.sub(search_string, replace_string, new_content)\n",
    "    return new_content\n",
    "\n",
    "        \n",
    "# TODO\n",
    "# def ignore_comments(content) :\n",
    "#     return \n",
    "\n",
    "\n",
    "def global_replace(content) :\n",
    "    data = events_replace(content)\n",
    "    data = keyword_replace(data)\n",
    "    return data\n",
    "\n",
    "\n",
    "def write_to_file(file_name, data) :\n",
    "    try:\n",
    "        f = open(file_name, \"w\")\n",
    "        try:\n",
    "            f.write(data)\n",
    "        except:\n",
    "            print(\"Something went wrong when writing to the file\", sys.exc_info()[0])\n",
    "        finally:\n",
    "            f.close()\n",
    "    except :\n",
    "        \n",
    "        print(\"Something went wrong when opening the file.\", sys.exc_info()[0]) \n",
    "\n",
    "\n",
    "new_content = global_replace(content)\n",
    "# print(new_content)\n",
    "file_name = \"new_script.js\"\n",
    "write_to_file(file_name, new_content)\n"
   ]
  }
 ],
 "metadata": {
  "interpreter": {
   "hash": "0e7315952c1f19a469679cabeee7d46fab95aa66dcaf374a9a47f319f34bdce8"
  },
  "kernelspec": {
   "display_name": "Python 3 (ipykernel)",
   "language": "python",
   "name": "python3"
  },
  "language_info": {
   "codemirror_mode": {
    "name": "ipython",
    "version": 3
   },
   "file_extension": ".py",
   "mimetype": "text/x-python",
   "name": "python",
   "nbconvert_exporter": "python",
   "pygments_lexer": "ipython3",
   "version": "3.9.7"
  }
 },
 "nbformat": 4,
 "nbformat_minor": 5
}
