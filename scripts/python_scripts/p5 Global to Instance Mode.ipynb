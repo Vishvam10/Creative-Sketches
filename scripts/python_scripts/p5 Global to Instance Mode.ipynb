{
 "cells": [
  {
   "cell_type": "code",
   "execution_count": 52,
   "id": "3a2db3cd",
   "metadata": {},
   "outputs": [
    {
     "name": "stdout",
     "output_type": "stream",
     "text": [
      "width p.width\n",
      "height p.height\n",
      "background p.background\n",
      "fill p.fill\n",
      "noStroke p.noStroke\n",
      "ellipse p.ellipse\n",
      "circle p.circle\n",
      "point p.point\n",
      "createCanvas p.createCanvas\n",
      "int p.int\n",
      "mouseX p.mouseX\n",
      "mouseY p.mouseY\n",
      "set p.set\n",
      "map p.map\n",
      "round p.round\n",
      "cos p.cos\n",
      "sin p.sin\n"
     ]
    }
   ],
   "source": [
    "import pandas as pd\n",
    "\n",
    "\n",
    "\n",
    "def get_apis() :\n",
    "    file_path = \"./p5_reference.txt\"\n",
    "    df = pd.read_csv(file_path, sep=\"\\n\", header=None)\n",
    "    \n",
    "    data = {}\n",
    "    current_header = \"\"\n",
    "    \n",
    "    for item in df.values.tolist() :\n",
    "        ele = item[0].strip()\n",
    "        if(ele[0].isupper()) :\n",
    "            if(ele != \"Foundation\") :\n",
    "                data[ele] = []\n",
    "                current_header = ele\n",
    "        else :\n",
    "            ele = ele.replace(\"()\", \"\")\n",
    "            data[current_header].append(ele)\n",
    "            \n",
    "    return data\n",
    "\n",
    "script_path = \"./sample.js\"\n",
    "content = \"\"\n",
    "\n",
    "functions = get_apis()\n",
    "\n",
    "with open(script_path, 'r') as f:\n",
    "    content = f.readlines()\n",
    "\n",
    "content = ''.join(content)\n",
    "new_content = content\n",
    "disallowed_symbols = [\">\", \">=\", \"<\", \"<=\", \"=\", \"const\", \"let\", \"var\", \"function\", \"while\", \"for\", \"setup\", \"draw\"]\n",
    "\n",
    "\n",
    "for key,value in functions.items() :\n",
    "    for v in value :\n",
    "        if(v in new_content and v not in disallowed_symbols) :\n",
    "            new_symbol = \"p.\" + v\n",
    "            new_content = new_content.replace(v, new_symbol)\n",
    "\n",
    "\n"
   ]
  }
 ],
 "metadata": {
  "interpreter": {
   "hash": "0e7315952c1f19a469679cabeee7d46fab95aa66dcaf374a9a47f319f34bdce8"
  },
  "kernelspec": {
   "display_name": "Python 3 (ipykernel)",
   "language": "python",
   "name": "python3"
  },
  "language_info": {
   "codemirror_mode": {
    "name": "ipython",
    "version": 3
   },
   "file_extension": ".py",
   "mimetype": "text/x-python",
   "name": "python",
   "nbconvert_exporter": "python",
   "pygments_lexer": "ipython3",
   "version": "3.9.7"
  }
 },
 "nbformat": 4,
 "nbformat_minor": 5
}
