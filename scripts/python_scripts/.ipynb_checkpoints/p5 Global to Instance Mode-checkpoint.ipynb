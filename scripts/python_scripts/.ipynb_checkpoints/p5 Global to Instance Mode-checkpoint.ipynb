{
 "cells": [
  {
   "cell_type": "code",
   "execution_count": 52,
   "id": "3a2db3cd",
   "metadata": {},
   "outputs": [],
   "source": [
    "import pandas as pd\n",
    "\n",
    "file_path = \"./p5_reference.txt\"\n",
    "\n",
    "df = pd.read_csv(file_path, sep=\"\\n\")\n",
    "\n",
    "functions = []\n",
    "headers = []\n",
    "for item in df.values.tolist() :\n",
    "    ele = item[0].strip()\n",
    "    if(ele[0].isupper()) :\n",
    "        headers.append(ele)\n",
    "    else :\n",
    "        ele = item[0].strip()\n",
    "        functions.append(ele)\n",
    "\n"
   ]
  }
 ],
 "metadata": {
  "kernelspec": {
   "display_name": "Python 3 (ipykernel)",
   "language": "python",
   "name": "python3"
  },
  "language_info": {
   "codemirror_mode": {
    "name": "ipython",
    "version": 3
   },
   "file_extension": ".py",
   "mimetype": "text/x-python",
   "name": "python",
   "nbconvert_exporter": "python",
   "pygments_lexer": "ipython3",
   "version": "3.9.7"
  }
 },
 "nbformat": 4,
 "nbformat_minor": 5
}
